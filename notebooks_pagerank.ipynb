{
  "metadata": {
    "kernelspec": {
      "name": ""
    },
    "language_info": {
      "file_extension": ".jl",
      "mimetype": "application/julia",
      "name": "julia",
      "version": "1.8.0"
    }
  },
  "nbformat_minor": 5,
  "nbformat": 4,
  "cells": [
    {
      "cell_type": "code",
      "source": "function calc_s(H,e,a)\n    S = H + a * transpose(e)\n    return S\nend",
      "metadata": {
        "trusted": true
      },
      "execution_count": null,
      "outputs": [],
      "id": "91cf52d0-103d-4316-844d-e81078b40558"
    },
    {
      "cell_type": "code",
      "source": "function format_matrix(file_name)\n    file = open(file_name) do f\n    num_nodes = parse(Int,readline(f))\n    num_links = parse(Int,readline(f))\n    link_count = zeros(num_nodes)\n    H = zeros(num_nodes, num_nodes)\n    dangling_vec = zeros(num_nodes)\n    e = zeros(num_nodes)\n    #Populate e\n    list_nodes = 1:num_nodes\n    for b in list_nodes\n        e[b] = 1/num_nodes\n    end\n    list_links = 1:num_links\n    for a in list_links\n        node_pair = readline(f);\n        starting_node,fin_node = split(string(node_pair), \", \")\n        H[parse(Int,fin_node),parse(Int,starting_node)] += 1\n        link_count[parse(Int,starting_node),1] += 1\n    end\n    #Calculate the PageRank transition matrix\n    for a in list_nodes\n        for b in list_nodes\n            if H[a,b] == 1\n                H[a,b] = 1/link_count[Int(b),1]\n            end\n        end\n    end\n    #Populate dangling node vector\n    for a in list_nodes\n        if link_count[Int(a),1] == 0\n            dangling_vec[Int(a)]+=1\n        end\n    end\n    #Calculate S\n    S = calc_s(H,dangling_vec,e)\n    return S\n    end\nend",
      "metadata": {
        "trusted": true
      },
      "execution_count": null,
      "outputs": [],
      "id": "aaffc99b-a984-43e0-8a27-4a93a29c5114"
    },
    {
      "cell_type": "code",
      "source": " #Calculate the probability distribution after a certain number of iterations of random surfing\nfunction calc_iterations(S, n, beta, x)\n    q_0 = ones(n)/n\n    e = ones(n)\n    q = q_0\n    for i in x\n        q = beta * S * q + (1-beta)*((ones(n)/n)*transpose(e)*q)\n    end\n    return q\nend",
      "metadata": {
        "trusted": true
      },
      "execution_count": null,
      "outputs": [],
      "id": "3997b1a5-c457-41d0-b5a5-82dc39dd713d"
    },
    {
      "cell_type": "code",
      "source": "#Determines the ranking of importance for the nodes in the proability distribution matrix\nfunction final_ranking(q,n)\n    nodes = zeros(n,2)\n    n_list = 1:n\n    for i in n_list\n        nodes[i,2] = i\n        nodes[i,1] = q[i]\n    end\n    nodes = sortslices(nodes,dims = 1)\n    final_ranking = zeros(n,1)\n    for i in n_list\n        final_ranking[i,1] = nodes[i,2]\n    end\n    return final_ranking\nend",
      "metadata": {
        "trusted": true
      },
      "execution_count": null,
      "outputs": [],
      "id": "91285bfa-fdd5-4873-b6ad-34f8c54e2b62"
    },
    {
      "cell_type": "code",
      "source": "S = format_matrix(\"julia_test.txt\")\nreturn S",
      "metadata": {
        "trusted": true
      },
      "execution_count": null,
      "outputs": [],
      "id": "dba15988-87fd-48fa-86cc-e58000f5de50"
    },
    {
      "cell_type": "code",
      "source": "S = format_matrix(\"julia_test.txt\")\nq = calc_iterations(S,4,0.85,3)\nreturn q",
      "metadata": {
        "trusted": true
      },
      "execution_count": null,
      "outputs": [],
      "id": "d9e45944-5376-4467-950c-82ad7a40a0d4"
    },
    {
      "cell_type": "code",
      "source": "S = format_matrix(\"julia_test.txt\")\nq = calc_iterations(S,4,0.85,3)\nf = final_ranking(q,4)\nreturn f",
      "metadata": {
        "trusted": true
      },
      "execution_count": null,
      "outputs": [],
      "id": "54af4359-6415-45a7-ba07-393e7e3ec687"
    },
    {
      "cell_type": "code",
      "source": "",
      "metadata": {},
      "execution_count": null,
      "outputs": [],
      "id": "621f9797-a3be-4548-bc6f-aa574140a88e"
    }
  ]
}