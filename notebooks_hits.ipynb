{
  "metadata": {
    "kernelspec": {
      "name": ""
    },
    "language_info": {
      "file_extension": ".jl",
      "mimetype": "application/julia",
      "name": "julia",
      "version": "1.8.0"
    }
  },
  "nbformat_minor": 5,
  "nbformat": 4,
  "cells": [
    {
      "cell_type": "code",
      "source": "#Read a file and create a respective Markov (transition) matrix\nfunction format_matrix(file_name)\n    file = open(file_name) do f\n    num_nodes = parse(Int,readline(f))\n    num_links = parse(Int,readline(f))\n    link_count = zeros(num_nodes)\n    H = zeros(num_nodes, num_nodes)\n    list_links = 1:num_links\n    #Read each node pair and indicate its respective link\n    for a in list_links\n        node_pair = readline(f);\n        starting_node,fin_node = split(string(node_pair), \", \")\n        H[parse(Int,fin_node),parse(Int,starting_node)] += 1\n        link_count[parse(Int,starting_node),1] += 1\n    end\n    #Calculate the Markov transition matrix\n    list_nodes = 1:num_nodes\n    for a in list_nodes\n        for b in list_nodes\n            if H[a,b] == 1\n                H[a,b] = 1/link_count[Int(b),1]\n            end\n        end\n    end\n    return H\n    end\nend",
      "metadata": {
        "trusted": true
      },
      "execution_count": null,
      "outputs": [],
      "id": "91cf52d0-103d-4316-844d-e81078b40558"
    },
    {
      "cell_type": "code",
      "source": "#Calculate the authority weight vector and the respective new hub vector\nfunction calc_weight(m, init_hub_weight, iterations)\n    num_iter = 1:iterations\n    for a in num_iter\n        auth_hub_weight = transpose(m)*init_hub_weight\n        init_hub_weight = m * auth_hub_weight\n    end\n    return init_hub_weight\nend",
      "metadata": {
        "trusted": true
      },
      "execution_count": null,
      "outputs": [],
      "id": "aaffc99b-a984-43e0-8a27-4a93a29c5114"
    },
    {
      "cell_type": "code",
      "source": "#Let the initial hub weight vector follow even distribution:\ninit_vec = ones(4)\nH = format_matrix(\"julia_test.txt\")\nfin_vec = calc_weight(H, init_vec, 3)\nreturn fin_vec",
      "metadata": {},
      "execution_count": null,
      "outputs": [],
      "id": "54af4359-6415-45a7-ba07-393e7e3ec687"
    }
  ]
}